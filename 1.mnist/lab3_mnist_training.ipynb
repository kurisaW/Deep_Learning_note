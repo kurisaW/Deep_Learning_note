{
 "cells": [
  {
   "cell_type": "markdown",
   "id": "868acfc3-1664-4a28-91a7-19b4db7968e1",
   "metadata": {},
   "source": [
    "> - Author: lebhoryi@gmail.com\n",
    "> - Date  : 2020/07/09\n",
    "> - File  : mnist with tensorflow 2 "
   ]
  },
  {
   "cell_type": "markdown",
   "id": "6905f6c0-ba3c-43be-abc9-15207a2a35fe",
   "metadata": {},
   "source": [
    "# Mnist 实验代码\n",
    "\n",
    "**实验步骤：**\n",
    "\n",
    "1. 导入库\n",
    "2. 准备数据集\n",
    "3. 搭建神经网络模型\n",
    "4. 训练\n",
    "5. 模型保存\n",
    "6. 加载保存的模型并预测"
   ]
  },
  {
   "cell_type": "markdown",
   "id": "e15ffa17-865e-46f6-a18b-6b54ec987d6b",
   "metadata": {},
   "source": [
    "之前已经将环境安装成功，此步骤可以跳过\n",
    "\n",
    "uninstall：卸载  \n",
    "install：安装"
   ]
  },
  {
   "cell_type": "code",
   "execution_count": 1,
   "id": "655f2345-4dd7-4ad3-9701-41c6330c9310",
   "metadata": {},
   "outputs": [
    {
     "name": "stdout",
     "output_type": "stream",
     "text": [
      "Looking in indexes: http://mirrors.aliyun.com/pypi/simple/\n",
      "Requirement already satisfied: tensorflow in e:\\anaconda3\\envs\\rtt_env2\\lib\\site-packages (2.9.1)\n",
      "Requirement already satisfied: six>=1.12.0 in e:\\anaconda3\\envs\\rtt_env2\\lib\\site-packages (from tensorflow) (1.16.0)\n",
      "Requirement already satisfied: tensorflow-io-gcs-filesystem>=0.23.1 in e:\\anaconda3\\envs\\rtt_env2\\lib\\site-packages (from tensorflow) (0.26.0)\n",
      "Requirement already satisfied: protobuf<3.20,>=3.9.2 in e:\\anaconda3\\envs\\rtt_env2\\lib\\site-packages (from tensorflow) (3.19.4)\n",
      "Requirement already satisfied: h5py>=2.9.0 in e:\\anaconda3\\envs\\rtt_env2\\lib\\site-packages (from tensorflow) (3.7.0)\n",
      "Requirement already satisfied: opt-einsum>=2.3.2 in e:\\anaconda3\\envs\\rtt_env2\\lib\\site-packages (from tensorflow) (3.3.0)\n",
      "Requirement already satisfied: libclang>=13.0.0 in e:\\anaconda3\\envs\\rtt_env2\\lib\\site-packages (from tensorflow) (14.0.1)\n",
      "Requirement already satisfied: packaging in e:\\anaconda3\\envs\\rtt_env2\\lib\\site-packages (from tensorflow) (22.0)\n",
      "Requirement already satisfied: typing-extensions>=3.6.6 in e:\\anaconda3\\envs\\rtt_env2\\lib\\site-packages (from tensorflow) (4.4.0)\n",
      "Requirement already satisfied: keras-preprocessing>=1.1.1 in e:\\anaconda3\\envs\\rtt_env2\\lib\\site-packages (from tensorflow) (1.1.2)\n",
      "Requirement already satisfied: wrapt>=1.11.0 in e:\\anaconda3\\envs\\rtt_env2\\lib\\site-packages (from tensorflow) (1.14.1)\n",
      "Requirement already satisfied: termcolor>=1.1.0 in e:\\anaconda3\\envs\\rtt_env2\\lib\\site-packages (from tensorflow) (2.1.0)\n",
      "Requirement already satisfied: google-pasta>=0.1.1 in e:\\anaconda3\\envs\\rtt_env2\\lib\\site-packages (from tensorflow) (0.2.0)\n",
      "Requirement already satisfied: tensorboard<2.10,>=2.9 in e:\\anaconda3\\envs\\rtt_env2\\lib\\site-packages (from tensorflow) (2.9.1)\n",
      "Requirement already satisfied: numpy>=1.20 in e:\\anaconda3\\envs\\rtt_env2\\lib\\site-packages (from tensorflow) (1.21.6)\n",
      "Requirement already satisfied: keras<2.10.0,>=2.9.0rc0 in e:\\anaconda3\\envs\\rtt_env2\\lib\\site-packages (from tensorflow) (2.9.0)\n",
      "Requirement already satisfied: setuptools in e:\\anaconda3\\envs\\rtt_env2\\lib\\site-packages (from tensorflow) (61.2.0)\n",
      "Requirement already satisfied: absl-py>=1.0.0 in e:\\anaconda3\\envs\\rtt_env2\\lib\\site-packages (from tensorflow) (1.3.0)\n",
      "Requirement already satisfied: flatbuffers<2,>=1.12 in e:\\anaconda3\\envs\\rtt_env2\\lib\\site-packages (from tensorflow) (1.12)\n",
      "Requirement already satisfied: grpcio<2.0,>=1.24.3 in e:\\anaconda3\\envs\\rtt_env2\\lib\\site-packages (from tensorflow) (1.47.0)\n",
      "Requirement already satisfied: astunparse>=1.6.0 in e:\\anaconda3\\envs\\rtt_env2\\lib\\site-packages (from tensorflow) (1.6.3)\n",
      "Requirement already satisfied: gast<=0.4.0,>=0.2.1 in e:\\anaconda3\\envs\\rtt_env2\\lib\\site-packages (from tensorflow) (0.4.0)\n",
      "Requirement already satisfied: tensorflow-estimator<2.10.0,>=2.9.0rc0 in e:\\anaconda3\\envs\\rtt_env2\\lib\\site-packages (from tensorflow) (2.9.0)\n",
      "Requirement already satisfied: wheel<1.0,>=0.23.0 in e:\\anaconda3\\envs\\rtt_env2\\lib\\site-packages (from astunparse>=1.6.0->tensorflow) (0.35.1)\n",
      "Requirement already satisfied: google-auth-oauthlib<0.5,>=0.4.1 in e:\\anaconda3\\envs\\rtt_env2\\lib\\site-packages (from tensorboard<2.10,>=2.9->tensorflow) (0.4.6)\n",
      "Requirement already satisfied: tensorboard-data-server<0.7.0,>=0.6.0 in e:\\anaconda3\\envs\\rtt_env2\\lib\\site-packages (from tensorboard<2.10,>=2.9->tensorflow) (0.6.1)\n",
      "Requirement already satisfied: requests<3,>=2.21.0 in e:\\anaconda3\\envs\\rtt_env2\\lib\\site-packages (from tensorboard<2.10,>=2.9->tensorflow) (2.28.1)\n",
      "Requirement already satisfied: tensorboard-plugin-wit>=1.6.0 in e:\\anaconda3\\envs\\rtt_env2\\lib\\site-packages (from tensorboard<2.10,>=2.9->tensorflow) (1.8.1)\n",
      "Requirement already satisfied: google-auth<3,>=1.6.3 in e:\\anaconda3\\envs\\rtt_env2\\lib\\site-packages (from tensorboard<2.10,>=2.9->tensorflow) (2.9.0)\n",
      "Requirement already satisfied: werkzeug>=1.0.1 in e:\\anaconda3\\envs\\rtt_env2\\lib\\site-packages (from tensorboard<2.10,>=2.9->tensorflow) (2.2.2)\n",
      "Requirement already satisfied: markdown>=2.6.8 in e:\\anaconda3\\envs\\rtt_env2\\lib\\site-packages (from tensorboard<2.10,>=2.9->tensorflow) (3.4.1)\n",
      "Requirement already satisfied: rsa<5,>=3.1.4 in e:\\anaconda3\\envs\\rtt_env2\\lib\\site-packages (from google-auth<3,>=1.6.3->tensorboard<2.10,>=2.9->tensorflow) (4.8)\n",
      "Requirement already satisfied: cachetools<6.0,>=2.0.0 in e:\\anaconda3\\envs\\rtt_env2\\lib\\site-packages (from google-auth<3,>=1.6.3->tensorboard<2.10,>=2.9->tensorflow) (5.2.0)\n",
      "Requirement already satisfied: pyasn1-modules>=0.2.1 in e:\\anaconda3\\envs\\rtt_env2\\lib\\site-packages (from google-auth<3,>=1.6.3->tensorboard<2.10,>=2.9->tensorflow) (0.2.8)\n",
      "Requirement already satisfied: requests-oauthlib>=0.7.0 in e:\\anaconda3\\envs\\rtt_env2\\lib\\site-packages (from google-auth-oauthlib<0.5,>=0.4.1->tensorboard<2.10,>=2.9->tensorflow) (1.3.1)\n",
      "Requirement already satisfied: importlib-metadata>=4.4 in e:\\anaconda3\\envs\\rtt_env2\\lib\\site-packages (from markdown>=2.6.8->tensorboard<2.10,>=2.9->tensorflow) (4.12.0)\n",
      "Requirement already satisfied: zipp>=0.5 in e:\\anaconda3\\envs\\rtt_env2\\lib\\site-packages (from importlib-metadata>=4.4->markdown>=2.6.8->tensorboard<2.10,>=2.9->tensorflow) (3.11.0)\n",
      "Requirement already satisfied: pyasn1<0.5.0,>=0.4.6 in e:\\anaconda3\\envs\\rtt_env2\\lib\\site-packages (from pyasn1-modules>=0.2.1->google-auth<3,>=1.6.3->tensorboard<2.10,>=2.9->tensorflow) (0.4.8)\n",
      "Requirement already satisfied: charset-normalizer<3,>=2 in e:\\anaconda3\\envs\\rtt_env2\\lib\\site-packages (from requests<3,>=2.21.0->tensorboard<2.10,>=2.9->tensorflow) (2.1.0)\n",
      "Requirement already satisfied: urllib3<1.27,>=1.21.1 in e:\\anaconda3\\envs\\rtt_env2\\lib\\site-packages (from requests<3,>=2.21.0->tensorboard<2.10,>=2.9->tensorflow) (1.26.14)\n",
      "Requirement already satisfied: certifi>=2017.4.17 in e:\\anaconda3\\envs\\rtt_env2\\lib\\site-packages (from requests<3,>=2.21.0->tensorboard<2.10,>=2.9->tensorflow) (2023.5.7)\n",
      "Requirement already satisfied: idna<4,>=2.5 in e:\\anaconda3\\envs\\rtt_env2\\lib\\site-packages (from requests<3,>=2.21.0->tensorboard<2.10,>=2.9->tensorflow) (3.4)\n",
      "Requirement already satisfied: oauthlib>=3.0.0 in e:\\anaconda3\\envs\\rtt_env2\\lib\\site-packages (from requests-oauthlib>=0.7.0->google-auth-oauthlib<0.5,>=0.4.1->tensorboard<2.10,>=2.9->tensorflow) (3.2.1)\n",
      "Requirement already satisfied: MarkupSafe>=2.1.1 in e:\\anaconda3\\envs\\rtt_env2\\lib\\site-packages (from werkzeug>=1.0.1->tensorboard<2.10,>=2.9->tensorflow) (2.1.1)\n"
     ]
    }
   ],
   "source": [
    "# !pip uninstall tensorflow -y\n",
    "!pip install tensorflow"
   ]
  },
  {
   "cell_type": "markdown",
   "id": "d6bf6cc9",
   "metadata": {},
   "source": [
    "# 1. 导入库"
   ]
  },
  {
   "cell_type": "code",
   "execution_count": 1,
   "id": "725d78bd-d8f6-4da9-839f-64225474df3b",
   "metadata": {},
   "outputs": [
    {
     "name": "stdout",
     "output_type": "stream",
     "text": [
      "The tensorflow version is : 2.9.1\n",
      "\n",
      "The numpy version is : 1.23.4\n"
     ]
    }
   ],
   "source": [
    "import os\n",
    "os.environ[\"TF_CPP_MIN_LOG_LEVEL\"] = \"2\"\n",
    "os.environ[\"CUDA_VISIBLE_DEVICES\"] = \"0\"\n",
    "import cv2\n",
    "import numpy as np\n",
    "import tensorflow as tf\n",
    "from tensorflow.keras import models, layers, datasets, utils\n",
    "from pathlib import Path\n",
    "import matplotlib.pyplot as plt\n",
    "\n",
    "# %matplotlib inline\n",
    "\n",
    "print(f\"The tensorflow version is : {tf.__version__}\\n\")\n",
    "print(f\"The numpy version is : {np.__version__}\")\n",
    "\n",
    "# 当一个单元格代码写完的时候，点一下上面的Run运行按钮，运行代码"
   ]
  },
  {
   "cell_type": "code",
   "execution_count": 2,
   "id": "60dc4c11-3490-4578-881b-b9a0fc95d5ae",
   "metadata": {},
   "outputs": [],
   "source": [
    "# 在当前路径下创建 model 文件夹，存放模型\n",
    "# exist_ok 如果文件夹已经存在，不会报错，如果没有，则会创建\n",
    "model_path = Path(\"Models\")\n",
    "model_path.mkdir(exist_ok=True) "
   ]
  },
  {
   "cell_type": "markdown",
   "id": "a53eddbe-f9c1-44cb-8064-9753d9082a99",
   "metadata": {},
   "source": [
    "# 2. 准备数据集\n",
    "\n",
    "载入并准备好[ MNIST 数据集](http://yann.lecun.com/exdb/mnist/)。\n",
    "\n",
    "Ps: 此处的数据集文件存放在国外网站，这里我已经提前下好到 ./data/mnist.npz, 直接使用即可\n",
    "\n",
    "训练集包含60,000个示例图像，测试集包含10,000个示例图像"
   ]
  },
  {
   "cell_type": "code",
   "execution_count": 3,
   "id": "b3cfabb2-665d-4ee2-af76-100196b0502e",
   "metadata": {},
   "outputs": [
    {
     "name": "stdout",
     "output_type": "stream",
     "text": [
      "x_train shape : (60000, 28, 28)\n",
      "y_train shape : (60000,)\n"
     ]
    }
   ],
   "source": [
    "data_path = Path(\"Datasets\")\n",
    "(x_train, y_train), (x_test, y_test) = datasets.mnist.load_data(data_path.resolve()/'train_data/mnist.npz')  # resolve 变成绝对路径\n",
    "\n",
    "print(f\"x_train shape : {x_train.shape}\")\n",
    "print(f\"y_train shape : {y_train.shape}\")"
   ]
  },
  {
   "cell_type": "code",
   "execution_count": 4,
   "id": "bf89aac3-c8fe-4242-b513-e7e1a9cb3e71",
   "metadata": {},
   "outputs": [
    {
     "data": {
      "text/plain": [
       "<matplotlib.image.AxesImage at 0x1c05fcff9a0>"
      ]
     },
     "execution_count": 4,
     "metadata": {},
     "output_type": "execute_result"
    },
    {
     "data": {
      "image/png": "[encoded data removed]",
      "text/plain": [
       "<Figure size 640x480 with 1 Axes>"
      ]
     },
     "metadata": {},
     "output_type": "display_data"
    }
   ],
   "source": [
    "# 显示图片，查看数据是否正常\n",
    "plt.imshow(x_train[0], cmap='gray')"
   ]
  },
  {
   "cell_type": "code",
   "execution_count": 5,
   "id": "b8f88f57",
   "metadata": {},
   "outputs": [],
   "source": [
    "import os\n",
    "os.environ[\"KMP_DUPLICATE_LIB_OK\"]  =  \"TRUE\""
   ]
  },
  {
   "cell_type": "code",
   "execution_count": 6,
   "id": "3731c153-130f-4bf2-b142-a39fe3783619",
   "metadata": {},
   "outputs": [
    {
     "name": "stdout",
     "output_type": "stream",
     "text": [
      "x_train shape : (60000, 28, 28)\n",
      "add dim x_train shape : (60000, 28, 28, 1)\n"
     ]
    }
   ],
   "source": [
    "# Normalize data，归一化，将图像的像素值都处理到[0,1]范围\n",
    "x_train, x_test = x_train / 255, x_test / 255\n",
    "print(f\"x_train shape : {x_train.shape}\")\n",
    "\n",
    "# 扩展一个维度，二维卷积需要用的输入数据是 NHWC，分别是number of batch, height, width, channels\n",
    "x_train, x_test = tf.expand_dims(x_train, -1), tf.expand_dims(x_test, -1)\n",
    "print(f\"add dim x_train shape : {x_train.shape}\")"
   ]
  },
  {
   "cell_type": "markdown",
   "id": "d03faef4-3bf0-4402-809b-db9a62c3d610",
   "metadata": {},
   "source": [
    "# 3. 搭建神经网络模型\n",
    "\n",
    "下面的是 tensorflow 官方例程，*此处不应用*\n",
    "\n",
    "```python\n",
    "# build network\n",
    "tf.keras.backend.clear_session()\n",
    "\n",
    "model = models.Sequential()\n",
    "model.add(layers.Flatten(input_shape=(28, 28, 1)))\n",
    "model.add(layers.Dense(128, activation='relu'))\n",
    "model.add(layers.Dropout(0.2))\n",
    "model.add(layers.Dense(10, activation='softmax'))\n",
    "\n",
    "model.summary()\n",
    "```\n"
   ]
  },
  {
   "cell_type": "code",
   "execution_count": 7,
   "id": "11b49291-f031-4c9b-abff-e427e0f098dc",
   "metadata": {},
   "outputs": [
    {
     "name": "stdout",
     "output_type": "stream",
     "text": [
      "Model: \"sequential\"\n",
      "_________________________________________________________________\n",
      " Layer (type)                Output Shape              Param #   \n",
      "=================================================================\n",
      " conv1 (Conv2D)              (None, 26, 26, 4)         40        \n",
      "                                                                 \n",
      " pool1 (MaxPooling2D)        (None, 13, 13, 4)         0         \n",
      "                                                                 \n",
      " conv2 (Conv2D)              (None, 11, 11, 8)         296       \n",
      "                                                                 \n",
      " pool2 (MaxPooling2D)        (None, 5, 5, 8)           0         \n",
      "                                                                 \n",
      " flatten (Flatten)           (None, 200)               0         \n",
      "                                                                 \n",
      " FC1 (Dense)                 (None, 128)               25728     \n",
      "                                                                 \n",
      " FC2 (Dense)                 (None, 10)                1290      \n",
      "                                                                 \n",
      "=================================================================\n",
      "Total params: 27,354\n",
      "Trainable params: 27,354\n",
      "Non-trainable params: 0\n",
      "_________________________________________________________________\n"
     ]
    }
   ],
   "source": [
    "# build network\n",
    "tf.keras.backend.clear_session()\n",
    "\n",
    "model = models.Sequential()\n",
    "# conv1\n",
    "model.add(layers.Conv2D(input_shape=(28, 28, 1), filters=4, \n",
    "    kernel_size=(3, 3), activation='relu', name='conv1'))\n",
    "model.add(layers.MaxPool2D(pool_size=(2,2), name='pool1'))\n",
    "\n",
    "# conv2\n",
    "model.add(layers.Conv2D(filters=8, kernel_size=(3, 3), \n",
    "                        activation='relu', name='conv2'))\n",
    "model.add(layers.MaxPool2D(pool_size=(2,2), name='pool2'))\n",
    "\n",
    "# flattern\n",
    "# model.add(layers.Dropout(rate=0.5, name='dropout'))\n",
    "model.add(layers.Flatten(name='flatten'))\n",
    "\n",
    "# FC1\n",
    "model.add(layers.Dense(128, activation='relu', name='FC1'))\n",
    "\n",
    "# FC2\n",
    "model.add(layers.Dense(10, activation='softmax', name=\"FC2\"))\n",
    "\n",
    "model.summary()"
   ]
  },
  {
   "cell_type": "markdown",
   "id": "e7d60972-0d8b-42ed-9c90-02aeac05b0c2",
   "metadata": {},
   "source": [
    "# 4. 训练\n",
    "\n",
    "### `compile()` 方法：指定损失、指标和优化器\n",
    "\n",
    "要使用 `fit()` 训练模型，您需要指定损失函数、优化器以及一些要监视的指标（可选）。\n",
    "\n",
    "将它们作为 `compile()` 方法的参数传递给模型："
   ]
  },
  {
   "cell_type": "code",
   "execution_count": 8,
   "id": "92036e53-937e-49bb-a061-12a527f057fe",
   "metadata": {
    "scrolled": false
   },
   "outputs": [
    {
     "name": "stdout",
     "output_type": "stream",
     "text": [
      "Epoch 1/10\n",
      "469/469 [==============================] - 23s 48ms/step - loss: 0.4204 - accuracy: 0.8813\n",
      "Epoch 2/10\n",
      "469/469 [==============================] - 22s 48ms/step - loss: 0.1155 - accuracy: 0.9645\n",
      "Epoch 3/10\n",
      "469/469 [==============================] - 22s 48ms/step - loss: 0.0862 - accuracy: 0.9733\n",
      "Epoch 4/10\n",
      "469/469 [==============================] - 15s 32ms/step - loss: 0.0712 - accuracy: 0.9778\n",
      "Epoch 5/10\n",
      "469/469 [==============================] - 23s 49ms/step - loss: 0.0613 - accuracy: 0.9816\n",
      "Epoch 6/10\n",
      "469/469 [==============================] - 22s 47ms/step - loss: 0.0539 - accuracy: 0.9835\n",
      "Epoch 7/10\n",
      "469/469 [==============================] - 23s 48ms/step - loss: 0.0479 - accuracy: 0.9853\n",
      "Epoch 8/10\n",
      "469/469 [==============================] - 23s 49ms/step - loss: 0.0426 - accuracy: 0.9869\n",
      "Epoch 9/10\n",
      "469/469 [==============================] - 23s 48ms/step - loss: 0.0376 - accuracy: 0.9884\n",
      "Epoch 10/10\n",
      "469/469 [==============================] - 23s 48ms/step - loss: 0.0333 - accuracy: 0.9902\n"
     ]
    }
   ],
   "source": [
    "model.compile(optimizer='adam',\n",
    "             loss='sparse_categorical_crossentropy',\n",
    "             metrics=['accuracy',])\n",
    "history = model.fit(x_train, y_train, batch_size=128, epochs=10)"
   ]
  },
  {
   "cell_type": "code",
   "execution_count": 9,
   "id": "d4ba4b3b-6ea0-45fb-9057-e1d82a576130",
   "metadata": {},
   "outputs": [
    {
     "data": {
      "text/plain": [
       "{'loss': [0.42040395736694336,\n",
       "  0.11553570628166199,\n",
       "  0.08621733635663986,\n",
       "  0.07119801640510559,\n",
       "  0.06133239343762398,\n",
       "  0.05385502427816391,\n",
       "  0.04788361117243767,\n",
       "  0.04255673289299011,\n",
       "  0.03762427717447281,\n",
       "  0.03328118473291397],\n",
       " 'accuracy': [0.8813333511352539,\n",
       "  0.9645333290100098,\n",
       "  0.9732833504676819,\n",
       "  0.9778000116348267,\n",
       "  0.9816499948501587,\n",
       "  0.9835333228111267,\n",
       "  0.9852666854858398,\n",
       "  0.9868666529655457,\n",
       "  0.9884166717529297,\n",
       "  0.9901666641235352]}"
      ]
     },
     "execution_count": 9,
     "metadata": {},
     "output_type": "execute_result"
    }
   ],
   "source": [
    "# 返回的“历史”对象保留训练期间的损失值和指标值记录\n",
    "history.history"
   ]
  },
  {
   "cell_type": "code",
   "execution_count": 10,
   "id": "d33f272f-ef67-488e-8c25-7c66e459a47b",
   "metadata": {},
   "outputs": [
    {
     "name": "stdout",
     "output_type": "stream",
     "text": [
      "Evaluate on test data\n",
      "313/313 [==============================] - 1s 2ms/step - loss: 0.0466 - accuracy: 0.9853\n",
      "test loss, test acc: [0.046647898852825165, 0.9853000044822693]\n"
     ]
    }
   ],
   "source": [
    "# Evaluate the model on the test data using `evaluate`\n",
    "print(\"Evaluate on test data\")\n",
    "results = model.evaluate(x_test, y_test, batch_size=32)\n",
    "print(\"test loss, test acc:\", results)"
   ]
  },
  {
   "cell_type": "code",
   "execution_count": 11,
   "id": "dd2ae707-4c34-4798-bbcb-949e8efee111",
   "metadata": {},
   "outputs": [
    {
     "data": {
      "image/png": "[encoded data removed]",
      "text/plain": [
       "<Figure size 640x480 with 1 Axes>"
      ]
     },
     "metadata": {},
     "output_type": "display_data"
    },
    {
     "data": {
      "image/png": "[encoded data removed]",
      "text/plain": [
       "<Figure size 640x480 with 1 Axes>"
      ]
     },
     "metadata": {},
     "output_type": "display_data"
    }
   ],
   "source": [
    "def plot_metric(history, metric):\n",
    "    train_metrics = history.history[metric]\n",
    "    epochs =range(1, len(train_metrics) + 1)\n",
    "    plt.plot(epochs, train_metrics, 'ro--')\n",
    "    # 相关属性\n",
    "    plt.title('Training ' + metric)\n",
    "    plt.xlabel('Epochs')\n",
    "    plt.ylabel(metric)\n",
    "    plt.legend(['train_'+metric])\n",
    "    plt.show()\n",
    "    \n",
    "plot_metric(history, 'loss')\n",
    "plot_metric(history, 'accuracy')"
   ]
  },
  {
   "cell_type": "markdown",
   "id": "1a5694f0-1786-4a44-8315-cf4decd5f786",
   "metadata": {},
   "source": [
    "**模型预测**\n",
    "\n",
    "验证 model 是否成功训练，用 test 数据集进行推理"
   ]
  },
  {
   "cell_type": "code",
   "execution_count": null,
   "id": "33493ee6-4c53-4e66-93c8-b576c9bfadfa",
   "metadata": {
    "jupyter": {
     "outputs_hidden": true
    },
    "scrolled": true,
    "tags": []
   },
   "outputs": [],
   "source": [
    "for img in x_test[10:16]:\n",
    "    y_pred = model.predict(tf.expand_dims(img, axis=0))  # 模型推理\n",
    "    p = np.argmax(y_pred)  # 获取概率最高的元素的索引\n",
    "    plt.imshow(img, cmap=\"gray\")\n",
    "    plt.show()\n",
    "    print(f\"model inference ouput:\\n {y_pred}\")\n",
    "    print(f\"predict : {p}\")"
   ]
  },
  {
   "cell_type": "markdown",
   "id": "e1175af7-0700-43c6-a569-c5e2fe8e8282",
   "metadata": {},
   "source": [
    "## 5. 模型保存"
   ]
  },
  {
   "cell_type": "code",
   "execution_count": null,
   "id": "fbde3202-b813-4f2b-ab41-c2ecf7839077",
   "metadata": {
    "scrolled": true
   },
   "outputs": [],
   "source": [
    "keras_file = model_path/'mnist.h5'\n",
    "print(keras_file)\n",
    "model.save(keras_file, save_format=\"h5\")"
   ]
  },
  {
   "cell_type": "markdown",
   "id": "524baa4d-e6e1-4f5a-816f-e5be677c53eb",
   "metadata": {},
   "source": [
    "## 6. 加载保存的模型并预测"
   ]
  },
  {
   "cell_type": "code",
   "execution_count": null,
   "id": "67031697-3ba7-4ea5-a369-dd7b3a6ec8ae",
   "metadata": {},
   "outputs": [],
   "source": [
    "# load model and test\n",
    "model_restore = models.load_model(keras_file)\n",
    "\n",
    "# 验证模型，没有任何返回则模型加载成功\n",
    "np.testing.assert_allclose(model.predict(x_test), model_restore.predict(x_test))"
   ]
  },
  {
   "cell_type": "code",
   "execution_count": null,
   "id": "612dbf94-6e31-4039-b74e-0d7ee951b6e0",
   "metadata": {
    "tags": []
   },
   "outputs": [],
   "source": [
    "model_restore.summary()"
   ]
  },
  {
   "cell_type": "code",
   "execution_count": null,
   "id": "18f6ad2c-1600-4891-bca5-3511d2e61c1f",
   "metadata": {
    "jupyter": {
     "outputs_hidden": true
    },
    "scrolled": true,
    "tags": []
   },
   "outputs": [],
   "source": [
    "# 找五张图片做测试\n",
    "for test_image in x_test[:5]:\n",
    "    y_pred = model_restore.predict(tf.expand_dims(test_image, axis=0))\n",
    "    p = np.argmax(y_pred)    # 获取概率最高的元素的索引\n",
    "    plt.imshow(test_image, cmap=\"gray\")\n",
    "    plt.show()\n",
    "    print(f\"model inference ouput:\\n {y_pred}\")\n",
    "    print(f\"predict : {p}\")"
   ]
  },
  {
   "cell_type": "code",
   "execution_count": null,
   "id": "679b8f40-f076-4691-845c-a2ac7c30250f",
   "metadata": {},
   "outputs": [],
   "source": [
    "# keras 模型转 tflite，后者模型会更小一点，算子支持更多\n",
    "model = tf.keras.models.load_model(keras_file)\n",
    "converter = tf.lite.TFLiteConverter.from_keras_model(model)\n",
    "tflite_model = converter.convert()\n",
    "\n",
    "tflite_file = model_path/ \"mnist.tflite\"\n",
    "tflite_file.write_bytes(tflite_model)"
   ]
  },
  {
   "cell_type": "code",
   "execution_count": null,
   "id": "f3e1a5a6",
   "metadata": {},
   "outputs": [],
   "source": []
  },
  {
   "cell_type": "code",
   "execution_count": null,
   "id": "2ed32f88",
   "metadata": {},
   "outputs": [],
   "source": []
  }
 ],
 "metadata": {
  "kernelspec": {
   "display_name": "DS_Project",
   "language": "python",
   "name": "ds_project"
  },
  "language_info": {
   "codemirror_mode": {
    "name": "ipython",
    "version": 3
   },
   "file_extension": ".py",
   "mimetype": "text/x-python",
   "name": "python",
   "nbconvert_exporter": "python",
   "pygments_lexer": "ipython3",
   "version": "3.10.0"
  },
  "vscode": {
   "interpreter": {
    "hash": "797cbd1beacf232cfff4ecffb76ba353e8a8a286e213e312217dc0f302086ea9"
   }
  }
 },
 "nbformat": 4,
 "nbformat_minor": 5
}
